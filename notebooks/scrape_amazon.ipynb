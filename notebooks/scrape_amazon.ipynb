{
 "cells": [
  {
   "cell_type": "code",
   "execution_count": null,
   "id": "81e37db5",
   "metadata": {},
   "outputs": [],
   "source": [
    "import requests\n",
    "from bs4 import BeautifulSoup\n",
    "import pandas as pd\n",
    "import time\n",
    "import time"
   ]
  },
  {
   "cell_type": "code",
   "execution_count": 4,
   "id": "b13b62c2",
   "metadata": {},
   "outputs": [],
   "source": [
    "order_csv = '../data/ecom/orders.csv'"
   ]
  },
  {
   "cell_type": "code",
   "execution_count": 34,
   "id": "d20e0bc7",
   "metadata": {},
   "outputs": [],
   "source": [
    "df = pd.read_csv(order_csv)\n",
    "df = df[['order_id', 'product_name']]\n",
    "prod_info = df.set_index('order_id').to_dict()['product_name']"
   ]
  },
  {
   "cell_type": "code",
   "execution_count": 22,
   "id": "2bd73684",
   "metadata": {},
   "outputs": [],
   "source": [
    "# Headers to simulate a browser (important to avoid blocking)\n",
    "headers = {\n",
    "    \"User-Agent\": \"Mozilla/5.0 (Windows NT 10.0; Win64; x64) AppleWebKit/537.36 (KHTML, like Gecko) Chrome/123.0.0.0 Safari/537.36\",\n",
    "    \"Accept-Language\": \"en-US,en;q=0.9\",\n",
    "}"
   ]
  },
  {
   "cell_type": "code",
   "execution_count": 39,
   "id": "b8a24eb3",
   "metadata": {},
   "outputs": [],
   "source": [
    "for order_id, prod_name in prod_info.items():\n",
    "    prod_name = prod_name.replace(' ', '+')\n",
    "    url = f'https://www.amazon.in/s?k={prod_name}'\n",
    "    response = requests.get(url, headers=headers)\n",
    "    soup = BeautifulSoup(response.content, \"html.parser\")\n",
    "    products = soup.find_all(\"div\", {\"data-component-type\": \"s-search-result\"})\n",
    "    data = []\n",
    "    count = 0\n",
    "    for product in products:\n",
    "        image = product.find(\"img\", {\"class\": \"s-image\"})\n",
    "        image_url = image['src'] if image else None        \n",
    "        break\n",
    "\n",
    "    response = requests.get(image_url)\n",
    "\n",
    "    if response.status_code == 200:\n",
    "        with open(f\"../data/ecom/images/{order_id}.jpg\", \"wb\") as f:\n",
    "            f.write(response.content)\n",
    "    else:\n",
    "        print(\"❌ Failed to download image. Status code:\", response.status_code)\n",
    "\n",
    "    time.sleep(1)"
   ]
  },
  {
   "cell_type": "code",
   "execution_count": 41,
   "id": "be835792",
   "metadata": {},
   "outputs": [
    {
     "data": {
      "text/plain": [
       "'KINGONE Upgraded Stylus Pen, iPad Pencil, Ultra High Precision&Sensitivity, Palm Rejection, Prevents False ON/Off Touch, Power Display, Tilt Sensitivity, Magnetic Adsorption for iPad 2018&Later, White'"
      ]
     },
     "execution_count": 41,
     "metadata": {},
     "output_type": "execute_result"
    }
   ],
   "source": [
    "product.h2.text.strip() if product.h2 else None"
   ]
  },
  {
   "cell_type": "code",
   "execution_count": 44,
   "id": "c0707856",
   "metadata": {},
   "outputs": [
    {
     "data": {
      "text/plain": [
       "'https://www.amazon.in/s?k=Digital+Stylus'"
      ]
     },
     "execution_count": 44,
     "metadata": {},
     "output_type": "execute_result"
    }
   ],
   "source": [
    "f\"https://www.amazon.in/s?k={prod_name}\""
   ]
  }
 ],
 "metadata": {
  "kernelspec": {
   "display_name": "lyzr-qdrant-multi-agent-system (3.12.0)",
   "language": "python",
   "name": "python3"
  },
  "language_info": {
   "codemirror_mode": {
    "name": "ipython",
    "version": 3
   },
   "file_extension": ".py",
   "mimetype": "text/x-python",
   "name": "python",
   "nbconvert_exporter": "python",
   "pygments_lexer": "ipython3",
   "version": "3.12.0"
  }
 },
 "nbformat": 4,
 "nbformat_minor": 5
}
